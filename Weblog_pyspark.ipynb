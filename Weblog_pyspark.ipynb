{
 "cells": [
  {
   "cell_type": "markdown",
   "metadata": {},
   "source": [
    "### Import necessary libraries"
   ]
  },
  {
   "cell_type": "code",
   "execution_count": 19,
   "metadata": {},
   "outputs": [],
   "source": [
    "from pyspark.sql import SparkSession\n",
    "\n",
    "from pyspark.sql import Row\n",
    "from pyspark.sql.types import *\n",
    "from pyspark.sql.functions import *\n",
    "\n",
    "from pyspark.ml.feature import VectorAssembler\n",
    "from pyspark.ml.feature import MinMaxScaler\n",
    "from pyspark.ml.feature import VectorIndexer\n",
    "\n",
    "#### For Model building and evaluation \n",
    "from pyspark.ml.regression import LinearRegression\n",
    "from pyspark.ml.regression import RandomForestRegressor\n",
    "from pyspark.ml.regression import GBTRegressor\n",
    "\n",
    "from pyspark.ml.evaluation import RegressionEvaluator\n",
    "\n"
   ]
  },
  {
   "cell_type": "markdown",
   "metadata": {},
   "source": [
    "## Build the SparkSession\n"
   ]
  },
  {
   "cell_type": "code",
   "execution_count": 1,
   "metadata": {},
   "outputs": [],
   "source": [
    "spark = SparkSession.builder \\\n",
    "    .master(\"local\") \\\n",
    "    .appName(\"Weblog_Analysis\") \\\n",
    "    .config(\"spark.executor.memory\", \"1gb\") \\\n",
    "    .getOrCreate()\n",
    "sc = spark.sparkContext"
   ]
  },
  {
   "cell_type": "markdown",
   "metadata": {},
   "source": [
    "## Load the data by creating RDD\n"
   ]
  },
  {
   "cell_type": "code",
   "execution_count": 2,
   "metadata": {},
   "outputs": [],
   "source": [
    "rdd = sc.textFile('E:/paytm/WeblogChallenge-master/data/2015_07_22_mktplace_shop_web_log_sample.log')\n",
    "# split the data into columns\n",
    "rdd = rdd.map(lambda line: line.split(\" \"))"
   ]
  },
  {
   "cell_type": "markdown",
   "metadata": {},
   "source": [
    "## Map the RDD to a DF "
   ]
  },
  {
   "cell_type": "code",
   "execution_count": 3,
   "metadata": {},
   "outputs": [
    {
     "name": "stdout",
     "output_type": "stream",
     "text": [
      "+---------------+--------------------+--------------------+\n",
      "|      ipaddress|           timestamp|                 url|\n",
      "+---------------+--------------------+--------------------+\n",
      "|123.242.248.130|2015-07-22T09:00:...|https://paytm.com...|\n",
      "|  203.91.211.44|2015-07-22T09:00:...|https://paytm.com...|\n",
      "|    1.39.32.179|2015-07-22T09:00:...|https://paytm.com...|\n",
      "| 180.179.213.94|2015-07-22T09:00:...|https://paytm.com...|\n",
      "| 120.59.192.208|2015-07-22T09:00:...|https://paytm.com...|\n",
      "| 117.239.195.66|2015-07-22T09:00:...|https://paytm.com...|\n",
      "|  101.60.186.26|2015-07-22T09:00:...|https://paytm.com...|\n",
      "|   59.183.41.47|2015-07-22T09:00:...|https://paytm.com...|\n",
      "| 117.239.195.66|2015-07-22T09:00:...|https://paytm.com...|\n",
      "|  183.83.237.83|2015-07-22T09:00:...|https://paytm.com...|\n",
      "+---------------+--------------------+--------------------+\n",
      "only showing top 10 rows\n",
      "\n"
     ]
    }
   ],
   "source": [
    "\n",
    "mainDF = rdd.map(lambda line: Row(timestamp=line[0], ipaddress=line[2].split(':')[0],url=line[12])).toDF()\n",
    "mainDF.show(10)"
   ]
  },
  {
   "cell_type": "markdown",
   "metadata": {},
   "source": [
    "## convert timestamps from string to timestamp datatype\n"
   ]
  },
  {
   "cell_type": "code",
   "execution_count": 4,
   "metadata": {},
   "outputs": [],
   "source": [
    "mainDF = mainDF.withColumn('timestamp', mainDF['timestamp'].cast(TimestampType()))"
   ]
  },
  {
   "cell_type": "markdown",
   "metadata": {},
   "source": [
    "## sessionizing data based on 10 min fixed window time(threshold for a session) - Time Oriented approach\n",
    "### assign an sessionId to each session"
   ]
  },
  {
   "cell_type": "code",
   "execution_count": 17,
   "metadata": {},
   "outputs": [
    {
     "name": "stdout",
     "output_type": "stream",
     "text": [
      "+------------------------------------------+---------------+------------------------+---------+\n",
      "|FixedTimeWindow                           |ipaddress      |NumberHitsInSessionForIp|SessionId|\n",
      "+------------------------------------------+---------------+------------------------+---------+\n",
      "|[2015-07-22 14:30:00, 2015-07-22 14:40:00]|113.193.196.15 |8                       |0        |\n",
      "|[2015-07-22 14:30:00, 2015-07-22 14:40:00]|116.202.36.65  |98                      |1        |\n",
      "|[2015-07-22 14:30:00, 2015-07-22 14:40:00]|217.137.241.138|2                       |2        |\n",
      "|[2015-07-22 14:30:00, 2015-07-22 14:40:00]|59.91.123.165  |28                      |3        |\n",
      "|[2015-07-22 14:30:00, 2015-07-22 14:40:00]|175.101.10.107 |56                      |4        |\n",
      "|[2015-07-22 14:30:00, 2015-07-22 14:40:00]|15.219.201.75  |30                      |5        |\n",
      "|[2015-07-22 14:30:00, 2015-07-22 14:40:00]|59.95.144.250  |9                       |6        |\n",
      "|[2015-07-22 14:30:00, 2015-07-22 14:40:00]|124.30.35.245  |12                      |7        |\n",
      "|[2015-07-22 14:30:00, 2015-07-22 14:40:00]|117.239.227.162|16                      |8        |\n",
      "|[2015-07-22 14:30:00, 2015-07-22 14:40:00]|220.227.165.115|75                      |9        |\n",
      "+------------------------------------------+---------------+------------------------+---------+\n",
      "only showing top 10 rows\n",
      "\n"
     ]
    }
   ],
   "source": [
    "SessionDF = mainDF.select(window(\"timestamp\", \"10 minutes\").alias('FixedTimeWindow'),'timestamp',\"ipaddress\").groupBy('FixedTimeWindow','ipaddress').count().withColumnRenamed('count', 'NumberHitsInSessionForIp')\n",
    "SessionDF = SessionDF.withColumn(\"SessionId\", monotonically_increasing_id())\n",
    "SessionDF.show(10,False)"
   ]
  },
  {
   "cell_type": "code",
   "execution_count": 18,
   "metadata": {},
   "outputs": [
    {
     "name": "stdout",
     "output_type": "stream",
     "text": [
      "+--------------------+---------------+--------------------+--------------------+------------------------+---------+\n",
      "|     FixedTimeWindow|      ipaddress|           timestamp|                 url|NumberHitsInSessionForIp|SessionId|\n",
      "+--------------------+---------------+--------------------+--------------------+------------------------+---------+\n",
      "|[2015-07-22 08:10...|     1.38.17.27|2015-07-22 08:14:...|https://paytm.com...|                       1|      202|\n",
      "|[2015-07-22 08:10...| 101.62.130.166|2015-07-22 08:10:...|https://paytm.com...|                       4|      190|\n",
      "|[2015-07-22 08:10...| 101.62.130.166|2015-07-22 08:10:...|https://paytm.com...|                       4|      190|\n",
      "|[2015-07-22 08:10...| 101.62.130.166|2015-07-22 08:10:...|https://paytm.com...|                       4|      190|\n",
      "|[2015-07-22 08:10...| 101.62.130.166|2015-07-22 08:11:...|https://paytm.com...|                       4|      190|\n",
      "|[2015-07-22 08:10...|106.215.143.117|2015-07-22 08:11:...|https://paytm.com...|                       7|      192|\n",
      "|[2015-07-22 08:10...|106.215.143.117|2015-07-22 08:11:...|https://paytm.com...|                       7|      192|\n",
      "|[2015-07-22 08:10...|106.215.143.117|2015-07-22 08:11:...|https://paytm.com...|                       7|      192|\n",
      "|[2015-07-22 08:10...|106.215.143.117|2015-07-22 08:11:...|https://paytm.com...|                       7|      192|\n",
      "|[2015-07-22 08:10...|106.215.143.117|2015-07-22 08:12:...|https://paytm.com...|                       7|      192|\n",
      "+--------------------+---------------+--------------------+--------------------+------------------------+---------+\n",
      "only showing top 10 rows\n",
      "\n"
     ]
    }
   ],
   "source": [
    "# join the time stamps and url to the Sessionized DF\n",
    "dfWithTimeStamps = mainDF.select(window(\"timestamp\", \"10 minutes\").alias('FixedTimeWindow'),'timestamp',\"ipaddress\",\"url\")\n",
    "SessionDF = dfWithTimeStamps.join(SessionDF,['FixedTimeWindow','ipaddress'])\n",
    "SessionDF.show(10)"
   ]
  },
  {
   "cell_type": "code",
   "execution_count": 14,
   "metadata": {},
   "outputs": [
    {
     "name": "stdout",
     "output_type": "stream",
     "text": [
      "+---------+--------------+--------------------+\n",
      "|SessionId|     ipaddress|        FristHitTime|\n",
      "+---------+--------------+--------------------+\n",
      "|       26|  218.248.82.9|2015-07-22 14:32:...|\n",
      "|       26|  218.248.82.9|2015-07-22 14:32:...|\n",
      "|       26|  218.248.82.9|2015-07-22 14:32:...|\n",
      "|       26|  218.248.82.9|2015-07-22 14:32:...|\n",
      "|       29|  27.62.30.188|2015-07-22 14:32:...|\n",
      "|       29|  27.62.30.188|2015-07-22 14:32:...|\n",
      "|       29|  27.62.30.188|2015-07-22 14:32:...|\n",
      "|       29|  27.62.30.188|2015-07-22 14:32:...|\n",
      "|      474|101.221.128.95|2015-07-22 16:05:...|\n",
      "|      474|101.221.128.95|2015-07-22 16:05:...|\n",
      "+---------+--------------+--------------------+\n",
      "only showing top 10 rows\n",
      "\n"
     ]
    }
   ],
   "source": [
    "# Finding the first hit time of each ip for each session and join in to session df\n",
    "FirstHitTimeStamps = SessionDF.groupBy(\"SessionId\").agg(min(\"timestamp\").alias('FristHitTime'))\n",
    "SessionDF = FirstHitTimeStamps.join(SessionDF,['SessionId'])\n",
    "\n",
    "\n",
    "SessionDF.select(col(\"SessionId\"),col(\"ipaddress\"),col(\"FristHitTime\")).show(10)"
   ]
  },
  {
   "cell_type": "markdown",
   "metadata": {},
   "source": [
    "### 2. Determine the average session time"
   ]
  },
  {
   "cell_type": "code",
   "execution_count": 13,
   "metadata": {},
   "outputs": [
    {
     "name": "stdout",
     "output_type": "stream",
     "text": [
      "+---------+--------------+---------------+\n",
      "|SessionId|     ipaddress|SessionDuration|\n",
      "+---------+--------------+---------------+\n",
      "|       26|  218.248.82.9|             13|\n",
      "|       26|  218.248.82.9|             13|\n",
      "|       26|  218.248.82.9|             13|\n",
      "|       26|  218.248.82.9|             13|\n",
      "|       29|  27.62.30.188|             33|\n",
      "|       29|  27.62.30.188|             33|\n",
      "|       29|  27.62.30.188|             33|\n",
      "|       29|  27.62.30.188|             33|\n",
      "|      474|101.221.128.95|            226|\n",
      "|      474|101.221.128.95|            226|\n",
      "+---------+--------------+---------------+\n",
      "only showing top 10 rows\n",
      "\n"
     ]
    }
   ],
   "source": [
    "# Among all the hits in a session the last one has the max diff with first hit\n",
    "# we define the time difference of first and last hit in a session to be the duration of a session for an ip\n",
    "# if there is only one hit in a session the duration is zero\n",
    "timeDiff = (unix_timestamp(SessionDF.timestamp)-unix_timestamp(SessionDF.FristHitTime))\n",
    "SessionDF = SessionDF.withColumn(\"timeDiffwithFirstHit\", timeDiff)\n",
    "tmpdf = SessionDF.groupBy(\"SessionId\").agg(max(\"timeDiffwithFirstHit\").alias(\"SessionDuration\"))\n",
    "SessionDF = SessionDF.join(tmpdf,['SessionId'])\n",
    "\n",
    "SessionDF.select(col(\"SessionId\"),col(\"ipaddress\"),col(\"SessionDuration\")).show(10)"
   ]
  },
  {
   "cell_type": "code",
   "execution_count": 9,
   "metadata": {},
   "outputs": [
    {
     "name": "stdout",
     "output_type": "stream",
     "text": [
      "+--------------------+\n",
      "|avg(SessionDuration)|\n",
      "+--------------------+\n",
      "|  141.58578161415625|\n",
      "+--------------------+\n",
      "\n"
     ]
    }
   ],
   "source": [
    "# showing the mean session duration\n",
    "# the printed number is secconds\n",
    "meandf = SessionDF.groupBy().avg('SessionDuration')\n",
    "meandf.show()"
   ]
  },
  {
   "cell_type": "markdown",
   "metadata": {},
   "source": [
    "### 3.) Determine unique URL visits per session. To clarify, count a hit to a unique URL only once per session\n"
   ]
  },
  {
   "cell_type": "code",
   "execution_count": 10,
   "metadata": {},
   "outputs": [
    {
     "name": "stdout",
     "output_type": "stream",
     "text": [
      "+---------+--------------------+-----------+\n",
      "|SessionId|                 URL|hitURLcount|\n",
      "+---------+--------------------+-----------+\n",
      "|       26|https://paytm.com...|          2|\n",
      "|       26|http://www.paytm....|          2|\n",
      "|       29|https://paytm.com...|          1|\n",
      "|       29|https://paytm.com...|          1|\n",
      "|       29|https://paytm.com...|          1|\n",
      "|       29|https://paytm.com...|          1|\n",
      "|      474|https://paytm.com...|          2|\n",
      "|      474|https://paytm.com...|          2|\n",
      "|      474|https://paytm.com...|          2|\n",
      "|      474|https://paytm.com...|          5|\n",
      "+---------+--------------------+-----------+\n",
      "only showing top 10 rows\n",
      "\n"
     ]
    }
   ],
   "source": [
    "dfURL = SessionDF.groupBy(\"SessionId\",\"URL\").count().distinct().withColumnRenamed('count', 'hitURLcount')\n",
    "dfURL.show(10)"
   ]
  },
  {
   "cell_type": "markdown",
   "metadata": {},
   "source": [
    "### 4.) Find the most engaged users, ie the IPs with the longest session times\n"
   ]
  },
  {
   "cell_type": "code",
   "execution_count": 12,
   "metadata": {},
   "outputs": [
    {
     "name": "stdout",
     "output_type": "stream",
     "text": [
      "+---------------+-------------+---------------+\n",
      "|      ipaddress|    SessionID|SessionDuration|\n",
      "+---------------+-------------+---------------+\n",
      "| 164.100.96.254| 249108103236|            847|\n",
      "| 111.119.199.22| 283467841590|            839|\n",
      "|117.220.186.227| 755914244158|            804|\n",
      "|  15.211.153.75|  17179869239|            596|\n",
      "| 119.235.53.134| 197568495681|            594|\n",
      "|   116.50.79.74|1606317769130|            579|\n",
      "|   52.74.219.71|1417339208087|            559|\n",
      "|  103.36.251.10|1279900254642|            559|\n",
      "|  106.186.23.95|1159641170327|            559|\n",
      "|  14.139.85.180|1039382086048|            558|\n",
      "+---------------+-------------+---------------+\n",
      "only showing top 10 rows\n",
      "\n"
     ]
    }
   ],
   "source": [
    "EngagedUsers = SessionDF.select(\"ipaddress\",\"SessionID\",\"SessionDuration\").sort(col(\"SessionDuration\").desc()).distinct()\n",
    "EngagedUsers.show(10)"
   ]
  },
  {
   "cell_type": "code",
   "execution_count": null,
   "metadata": {},
   "outputs": [],
   "source": []
  }
 ],
 "metadata": {
  "kernelspec": {
   "display_name": "Python 3",
   "language": "python",
   "name": "python3"
  },
  "language_info": {
   "codemirror_mode": {
    "name": "ipython",
    "version": 3
   },
   "file_extension": ".py",
   "mimetype": "text/x-python",
   "name": "python",
   "nbconvert_exporter": "python",
   "pygments_lexer": "ipython3",
   "version": "3.6.4"
  }
 },
 "nbformat": 4,
 "nbformat_minor": 2
}

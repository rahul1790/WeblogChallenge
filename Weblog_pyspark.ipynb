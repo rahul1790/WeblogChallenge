{
 "cells": [
  {
   "cell_type": "markdown",
   "metadata": {},
   "source": [
    "### Import necessary libraries"
   ]
  },
  {
   "cell_type": "code",
   "execution_count": null,
   "metadata": {},
   "outputs": [],
   "source": [
    "from pyspark.sql import SparkSession\n",
    "\n",
    "from pyspark.sql import Row\n",
    "from pyspark.sql.types import *\n",
    "from pyspark.sql.functions import *\n",
    "\n",
    "from pyspark.ml.feature import VectorAssembler\n",
    "from pyspark.ml.feature import MinMaxScaler\n",
    "from pyspark.ml.feature import VectorIndexer\n",
    "\n",
    "#### For Model building and evaluation \n",
    "from pyspark.ml.regression import LinearRegression\n",
    "from pyspark.ml.regression import RandomForestRegressor\n",
    "from pyspark.ml.regression import GBTRegressor\n",
    "\n",
    "from pyspark.ml.evaluation import RegressionEvaluator\n",
    "\n"
   ]
  },
  {
   "cell_type": "markdown",
   "metadata": {},
   "source": [
    "## Build the SparkSession\n"
   ]
  },
  {
   "cell_type": "code",
   "execution_count": 1,
   "metadata": {},
   "outputs": [],
   "source": [
    "spark = SparkSession.builder \\\n",
    "    .master(\"local\") \\\n",
    "    .appName(\"Weblog_Analysis\") \\\n",
    "    .config(\"spark.executor.memory\", \"1gb\") \\\n",
    "    .getOrCreate()\n",
    "sc = spark.sparkContext"
   ]
  },
  {
   "cell_type": "markdown",
   "metadata": {},
   "source": [
    "## Load the data by creating RDD\n"
   ]
  },
  {
   "cell_type": "code",
   "execution_count": 2,
   "metadata": {},
   "outputs": [],
   "source": [
    "rdd = sc.textFile('E:/paytm/WeblogChallenge-master/data/2015_07_22_mktplace_shop_web_log_sample.log')\n",
    "# split the data into columns\n",
    "rdd = rdd.map(lambda line: line.split(\" \"))"
   ]
  },
  {
   "cell_type": "markdown",
   "metadata": {},
   "source": [
    "## Map the RDD to a DF "
   ]
  },
  {
   "cell_type": "code",
   "execution_count": 3,
   "metadata": {},
   "outputs": [
    {
     "name": "stdout",
     "output_type": "stream",
     "text": [
      "+---------------+--------------------+--------------------+\n",
      "|      ipaddress|           timestamp|                 url|\n",
      "+---------------+--------------------+--------------------+\n",
      "|123.242.248.130|2015-07-22T09:00:...|https://paytm.com...|\n",
      "|  203.91.211.44|2015-07-22T09:00:...|https://paytm.com...|\n",
      "|    1.39.32.179|2015-07-22T09:00:...|https://paytm.com...|\n",
      "| 180.179.213.94|2015-07-22T09:00:...|https://paytm.com...|\n",
      "| 120.59.192.208|2015-07-22T09:00:...|https://paytm.com...|\n",
      "| 117.239.195.66|2015-07-22T09:00:...|https://paytm.com...|\n",
      "|  101.60.186.26|2015-07-22T09:00:...|https://paytm.com...|\n",
      "|   59.183.41.47|2015-07-22T09:00:...|https://paytm.com...|\n",
      "| 117.239.195.66|2015-07-22T09:00:...|https://paytm.com...|\n",
      "|  183.83.237.83|2015-07-22T09:00:...|https://paytm.com...|\n",
      "+---------------+--------------------+--------------------+\n",
      "only showing top 10 rows\n",
      "\n"
     ]
    }
   ],
   "source": [
    "\n",
    "mainDF = rdd.map(lambda line: Row(timestamp=line[0], ipaddress=line[2].split(':')[0],url=line[12])).toDF()\n",
    "mainDF.show(10)"
   ]
  },
  {
   "cell_type": "markdown",
   "metadata": {},
   "source": [
    "## convert timestamps from string to timestamp datatype\n"
   ]
  },
  {
   "cell_type": "code",
   "execution_count": 4,
   "metadata": {},
   "outputs": [],
   "source": [
    "mainDF = mainDF.withColumn('timestamp', mainDF['timestamp'].cast(TimestampType()))"
   ]
  },
  {
   "cell_type": "markdown",
   "metadata": {},
   "source": [
    "## sessionizing data based on 10 min fixed window time(threshold) - Time Oriented approach\n",
    "### assign an sessionId to each session"
   ]
  },
  {
   "cell_type": "code",
   "execution_count": 5,
   "metadata": {},
   "outputs": [
    {
     "name": "stdout",
     "output_type": "stream",
     "text": [
      "+------------------------------------------+---------------+------------------------+---------+\n",
      "|FixedTimeWindow                           |ipaddress      |NumberHitsInSessionForIp|SessionId|\n",
      "+------------------------------------------+---------------+------------------------+---------+\n",
      "|[2015-07-22 14:30:00, 2015-07-22 14:45:00]|1.38.17.231    |14                      |0        |\n",
      "|[2015-07-22 14:30:00, 2015-07-22 14:45:00]|161.51.16.10   |1                       |1        |\n",
      "|[2015-07-22 14:30:00, 2015-07-22 14:45:00]|117.213.93.103 |3                       |2        |\n",
      "|[2015-07-22 14:30:00, 2015-07-22 14:45:00]|165.225.104.65 |35                      |3        |\n",
      "|[2015-07-22 14:30:00, 2015-07-22 14:45:00]|1.39.46.218    |7                       |4        |\n",
      "|[2015-07-22 14:30:00, 2015-07-22 14:45:00]|122.160.168.148|2                       |5        |\n",
      "|[2015-07-22 14:30:00, 2015-07-22 14:45:00]|106.219.13.17  |2                       |6        |\n",
      "|[2015-07-22 14:30:00, 2015-07-22 14:45:00]|106.76.90.62   |14                      |7        |\n",
      "|[2015-07-22 14:30:00, 2015-07-22 14:45:00]|182.74.140.218 |2                       |8        |\n",
      "|[2015-07-22 14:30:00, 2015-07-22 14:45:00]|117.237.13.128 |10                      |9        |\n",
      "|[2015-07-22 14:30:00, 2015-07-22 14:45:00]|49.14.48.156   |1                       |10       |\n",
      "|[2015-07-22 14:30:00, 2015-07-22 14:45:00]|125.16.14.134  |4                       |11       |\n",
      "|[2015-07-22 14:30:00, 2015-07-22 14:45:00]|120.60.31.116  |3                       |12       |\n",
      "|[2015-07-22 14:30:00, 2015-07-22 14:45:00]|183.82.99.148  |102                     |13       |\n",
      "|[2015-07-22 14:30:00, 2015-07-22 14:45:00]|117.242.229.95 |3                       |14       |\n",
      "|[2015-07-22 14:30:00, 2015-07-22 14:45:00]|117.203.165.166|4                       |15       |\n",
      "|[2015-07-22 14:30:00, 2015-07-22 14:45:00]|182.75.0.219   |1                       |16       |\n",
      "|[2015-07-22 14:30:00, 2015-07-22 14:45:00]|90.216.134.197 |2                       |17       |\n",
      "|[2015-07-22 14:30:00, 2015-07-22 14:45:00]|115.117.83.101 |9                       |18       |\n",
      "|[2015-07-22 14:30:00, 2015-07-22 14:45:00]|119.235.48.219 |3                       |19       |\n",
      "+------------------------------------------+---------------+------------------------+---------+\n",
      "only showing top 20 rows\n",
      "\n"
     ]
    }
   ],
   "source": [
    "\n",
    "SessionDF = mainDF.select(window(\"timestamp\", \"10 minutes\").alias('FixedTimeWindow'),'timestamp',\"ipaddress\").groupBy('FixedTimeWindow','ipaddress').count().withColumnRenamed('count', 'NumberHitsInSessionForIp')\n",
    "SessionDF = SessionDF.withColumn(\"SessionId\", monotonically_increasing_id())\n",
    "SessionDF.show(10,False)"
   ]
  },
  {
   "cell_type": "code",
   "execution_count": 6,
   "metadata": {},
   "outputs": [
    {
     "name": "stdout",
     "output_type": "stream",
     "text": [
      "+--------------------+---------------+--------------------+--------------------+------------------------+---------+\n",
      "|     FixedTimeWindow|      ipaddress|           timestamp|                 url|NumberHitsInSessionForIp|SessionId|\n",
      "+--------------------+---------------+--------------------+--------------------+------------------------+---------+\n",
      "|[2015-07-22 08:00...|  106.51.141.73|2015-07-22 08:14:...|https://paytm.com...|                       1|      217|\n",
      "|[2015-07-22 08:00...|107.167.109.115|2015-07-22 08:13:...|http://www.paytm....|                       1|      211|\n",
      "|[2015-07-22 08:00...|113.193.203.163|2015-07-22 08:11:...|https://paytm.com...|                       1|      205|\n",
      "|[2015-07-22 08:00...|  115.184.19.68|2015-07-22 08:13:...|https://paytm.com...|                       1|      209|\n",
      "|[2015-07-22 08:00...|  115.250.103.3|2015-07-22 08:14:...|https://paytm.com...|                       3|      215|\n",
      "|[2015-07-22 08:00...|  115.250.103.3|2015-07-22 08:14:...|https://paytm.com...|                       3|      215|\n",
      "|[2015-07-22 08:00...|  115.250.103.3|2015-07-22 08:14:...|https://paytm.com...|                       3|      215|\n",
      "|[2015-07-22 08:00...|116.203.129.121|2015-07-22 08:13:...|https://paytm.com...|                       5|      212|\n",
      "|[2015-07-22 08:00...|116.203.129.121|2015-07-22 08:13:...|https://paytm.com...|                       5|      212|\n",
      "|[2015-07-22 08:00...|116.203.129.121|2015-07-22 08:13:...|https://www.paytm...|                       5|      212|\n",
      "|[2015-07-22 08:00...|116.203.129.121|2015-07-22 08:13:...|https://paytm.com...|                       5|      212|\n",
      "|[2015-07-22 08:00...|116.203.129.121|2015-07-22 08:13:...|https://paytm.com...|                       5|      212|\n",
      "|[2015-07-22 08:00...|  117.198.45.19|2015-07-22 08:14:...|https://paytm.com...|                       3|      213|\n",
      "|[2015-07-22 08:00...|  117.198.45.19|2015-07-22 08:14:...|https://paytm.com...|                       3|      213|\n",
      "|[2015-07-22 08:00...|  117.198.45.19|2015-07-22 08:14:...|https://paytm.com...|                       3|      213|\n",
      "|[2015-07-22 08:00...|117.199.132.124|2015-07-22 08:13:...|https://paytm.com...|                       1|      210|\n",
      "|[2015-07-22 08:00...|117.253.213.104|2015-07-22 08:13:...|https://paytm.com...|                       2|      208|\n",
      "|[2015-07-22 08:00...|117.253.213.104|2015-07-22 08:14:...|https://paytm.com...|                       2|      208|\n",
      "|[2015-07-22 08:00...|  120.60.191.85|2015-07-22 08:11:...|http://paytm.com:...|                       5|      204|\n",
      "|[2015-07-22 08:00...|  120.60.191.85|2015-07-22 08:11:...|https://paytm.com...|                       5|      204|\n",
      "+--------------------+---------------+--------------------+--------------------+------------------------+---------+\n",
      "only showing top 20 rows\n",
      "\n"
     ]
    }
   ],
   "source": [
    "# join the time stamps and url to the Sessionized DF\n",
    "dfWithTimeStamps = mainDF.select(window(\"timestamp\", \"10 minutes\").alias('FixedTimeWindow'),'timestamp',\"ipaddress\",\"url\")\n",
    "SessionDF = dfWithTimeStamps.join(SessionDF,['FixedTimeWindow','ipaddress'])\n",
    "SessionDF.show(10)"
   ]
  },
  {
   "cell_type": "code",
   "execution_count": 7,
   "metadata": {},
   "outputs": [
    {
     "name": "stdout",
     "output_type": "stream",
     "text": [
      "+---------+--------------+--------------------+\n",
      "|SessionId|     ipaddress|        FristHitTime|\n",
      "+---------+--------------+--------------------+\n",
      "|       26|  218.248.82.9|2015-07-22 14:32:...|\n",
      "|       26|  218.248.82.9|2015-07-22 14:32:...|\n",
      "|       26|  218.248.82.9|2015-07-22 14:32:...|\n",
      "|       26|  218.248.82.9|2015-07-22 14:32:...|\n",
      "|       29|  27.62.30.188|2015-07-22 14:32:...|\n",
      "|       29|  27.62.30.188|2015-07-22 14:32:...|\n",
      "|       29|  27.62.30.188|2015-07-22 14:32:...|\n",
      "|       29|  27.62.30.188|2015-07-22 14:32:...|\n",
      "|      474|101.221.128.95|2015-07-22 16:05:...|\n",
      "|      474|101.221.128.95|2015-07-22 16:05:...|\n",
      "|      474|101.221.128.95|2015-07-22 16:05:...|\n",
      "|      474|101.221.128.95|2015-07-22 16:05:...|\n",
      "|      474|101.221.128.95|2015-07-22 16:05:...|\n",
      "|      474|101.221.128.95|2015-07-22 16:05:...|\n",
      "|      474|101.221.128.95|2015-07-22 16:05:...|\n",
      "|      474|101.221.128.95|2015-07-22 16:05:...|\n",
      "|      474|101.221.128.95|2015-07-22 16:05:...|\n",
      "|      474|101.221.128.95|2015-07-22 16:05:...|\n",
      "|      474|101.221.128.95|2015-07-22 16:05:...|\n",
      "|      474|101.221.128.95|2015-07-22 16:05:...|\n",
      "+---------+--------------+--------------------+\n",
      "only showing top 20 rows\n",
      "\n"
     ]
    }
   ],
   "source": [
    "# Finding the first hit time of each ip for each session and join in to session df\n",
    "FirstHitTimeStamps = SessionDF.groupBy(\"SessionId\").agg(min(\"timestamp\").alias('FristHitTime'))\n",
    "SessionDF = FirstHitTimeStamps.join(SessionDF,['SessionId'])\n",
    "SessionDF.select(col(\"SessionId\"),col(\"ipaddress\"),col(\"FristHitTime\")).show(10)"
   ]
  },
  {
   "cell_type": "markdown",
   "metadata": {},
   "source": [
    "### 2. Determine the average session time"
   ]
  },
  {
   "cell_type": "code",
   "execution_count": 8,
   "metadata": {},
   "outputs": [
    {
     "name": "stdout",
     "output_type": "stream",
     "text": [
      "+---------+--------------+---------------+\n",
      "|SessionId|     ipaddress|SessionDuration|\n",
      "+---------+--------------+---------------+\n",
      "|       26|  218.248.82.9|             13|\n",
      "|       26|  218.248.82.9|             13|\n",
      "|       26|  218.248.82.9|             13|\n",
      "|       26|  218.248.82.9|             13|\n",
      "|       29|  27.62.30.188|             33|\n",
      "|       29|  27.62.30.188|             33|\n",
      "|       29|  27.62.30.188|             33|\n",
      "|       29|  27.62.30.188|             33|\n",
      "|      474|101.221.128.95|            226|\n",
      "|      474|101.221.128.95|            226|\n",
      "|      474|101.221.128.95|            226|\n",
      "|      474|101.221.128.95|            226|\n",
      "|      474|101.221.128.95|            226|\n",
      "|      474|101.221.128.95|            226|\n",
      "|      474|101.221.128.95|            226|\n",
      "|      474|101.221.128.95|            226|\n",
      "|      474|101.221.128.95|            226|\n",
      "|      474|101.221.128.95|            226|\n",
      "|      474|101.221.128.95|            226|\n",
      "|      474|101.221.128.95|            226|\n",
      "+---------+--------------+---------------+\n",
      "only showing top 20 rows\n",
      "\n"
     ]
    }
   ],
   "source": [
    "# Among all the hits in a session the last one has the max diff with first hit\n",
    "# we define the time difference of first and last hit in a session to be the duration of a session for an ip\n",
    "# if there is only one hit in a session the duration is zero\n",
    "timeDiff = (unix_timestamp(SessionDF.timestamp)-unix_timestamp(SessionDF.FristHitTime))\n",
    "SessionDF = SessionDF.withColumn(\"timeDiffwithFirstHit\", timeDiff)\n",
    "tmpdf = SessionDF.groupBy(\"SessionId\").agg(max(\"timeDiffwithFirstHit\").alias(\"SessionDuration\"))\n",
    "SessionDF = SessionDF.join(tmpdf,['SessionId'])\n",
    "SessionDF.select(col(\"SessionId\"),col(\"ipaddress\"),col(\"SessionDuration\")).show(10)"
   ]
  },
  {
   "cell_type": "code",
   "execution_count": 9,
   "metadata": {},
   "outputs": [
    {
     "name": "stdout",
     "output_type": "stream",
     "text": [
      "+--------------------+\n",
      "|avg(SessionDuration)|\n",
      "+--------------------+\n",
      "|  141.58578161415625|\n",
      "+--------------------+\n",
      "\n"
     ]
    }
   ],
   "source": [
    "# showing the mean session duration\n",
    "# the printed number is secconds\n",
    "meandf = SessionDF.groupBy().avg('SessionDuration')\n",
    "meandf.show()"
   ]
  },
  {
   "cell_type": "markdown",
   "metadata": {},
   "source": [
    "### 3.) Determine unique URL visits per session. To clarify, count a hit to a unique URL only once per session\n"
   ]
  },
  {
   "cell_type": "code",
   "execution_count": 10,
   "metadata": {},
   "outputs": [
    {
     "name": "stdout",
     "output_type": "stream",
     "text": [
      "+---------+--------------------+-----------+\n",
      "|SessionId|                 URL|hitURLcount|\n",
      "+---------+--------------------+-----------+\n",
      "|       26|https://paytm.com...|          2|\n",
      "|       26|http://www.paytm....|          2|\n",
      "|       29|https://paytm.com...|          1|\n",
      "|       29|https://paytm.com...|          1|\n",
      "|       29|https://paytm.com...|          1|\n",
      "|       29|https://paytm.com...|          1|\n",
      "|      474|https://paytm.com...|          2|\n",
      "|      474|https://paytm.com...|          2|\n",
      "|      474|https://paytm.com...|          2|\n",
      "|      474|https://paytm.com...|          5|\n",
      "+---------+--------------------+-----------+\n",
      "only showing top 10 rows\n",
      "\n"
     ]
    }
   ],
   "source": [
    "dfURL = SessionDF.groupBy(\"SessionId\",\"URL\").count().distinct().withColumnRenamed('count', 'hitURLcount')\n",
    "dfURL.show(10)"
   ]
  },
  {
   "cell_type": "markdown",
   "metadata": {},
   "source": [
    "### 4.) Find the most engaged users, ie the IPs with the longest session times\n"
   ]
  },
  {
   "cell_type": "code",
   "execution_count": 11,
   "metadata": {},
   "outputs": [
    {
     "name": "stdout",
     "output_type": "stream",
     "text": [
      "+--------------+------------+---------------+\n",
      "|     ipaddress|   SessionID|SessionDuration|\n",
      "+--------------+------------+---------------+\n",
      "|164.100.96.254|249108103236|            847|\n",
      "|111.119.199.22|283467841590|            839|\n",
      "+--------------+------------+---------------+\n",
      "only showing top 2 rows\n",
      "\n"
     ]
    }
   ],
   "source": [
    "EngagedUsers = SessionDF.select(\"ipaddress\",\"SessionID\",\"SessionDuration\").sort(col(\"SessionDuration\").desc()).distinct()\n",
    "EngagedUsers.show(2)"
   ]
  },
  {
   "cell_type": "markdown",
   "metadata": {},
   "source": [
    "### For Machine Learning"
   ]
  },
  {
   "cell_type": "code",
   "execution_count": null,
   "metadata": {},
   "outputs": [],
   "source": [
    "data_df = bankDF_New.na.drop( how = 'any' )\n",
    "print('Before Dropping Null Values', bankDF_New.count())\n",
    "print('After Dropping Null Values', data_df.count())"
   ]
  }
 ],
 "metadata": {
  "kernelspec": {
   "display_name": "Python 3",
   "language": "python",
   "name": "python3"
  },
  "language_info": {
   "codemirror_mode": {
    "name": "ipython",
    "version": 3
   },
   "file_extension": ".py",
   "mimetype": "text/x-python",
   "name": "python",
   "nbconvert_exporter": "python",
   "pygments_lexer": "ipython3",
   "version": "3.6.4"
  }
 },
 "nbformat": 4,
 "nbformat_minor": 2
}
